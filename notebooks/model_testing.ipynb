{
 "cells": [
  {
   "cell_type": "code",
   "execution_count": null,
   "id": "d441e964",
   "metadata": {},
   "outputs": [],
   "source": [
    "from pathlib import Path\n",
    "import pandas as pd\n",
    "import numpy as np\n",
    "import matplotlib.pyplot as plt\n",
    "from sklearn.preprocessing import StandardScaler, OrdinalEncoder, OneHotEncoder, LabelEncoder\n",
    "from sklearn.compose import ColumnTransformer\n",
    "from sklearn.pipeline import Pipeline\n",
    "from sklearn.model_selection import train_test_split, RandomizedSearchCV, learning_curve\n",
    "from sklearn.metrics import classification_report, ConfusionMatrixDisplay, confusion_matrix\n",
    "from sklearn.feature_selection import SelectKBest, mutual_info_classif\n",
    "from sklearn.base import accuracy_score"
   ]
  },
  {
   "cell_type": "code",
   "execution_count": 8,
   "id": "69c8dd15",
   "metadata": {},
   "outputs": [],
   "source": [
    "PROCESSED_DIR = Path.cwd().parent / \"data\" / \"processed\"\n",
    "\n",
    "df_final_cluster = pd.read_csv(PROCESSED_DIR / 'df_cluster_centroids.csv')"
   ]
  },
  {
   "cell_type": "code",
   "execution_count": null,
   "id": "32f3dab4",
   "metadata": {},
   "outputs": [],
   "source": [
    "num_cols = ['IDADE', 'DIAS_ENTRE_CONSULTA_DIAGNOSTICO', 'DIAS_ENTRE_CONSULTA_TRATAMENTO', 'DIAS_ENTRE_DIAGNOSTICO_TRATAMENTO']\n",
    "bin_cols = ['SEM_RECIDIVA']\n",
    "cat_cols = ['CATEGORIA_ATENDIMENTO', 'DIAGNOSTICO_E_TRATAMENTO_ANTERIOR', 'CODIGO_BASE_DIAGNOSTICO',\n",
    "            'ESTADIO_CLINICO', 'TNM_T', 'TNM_N', 'TNM_M']\n",
    "ord_cols = ['PSA', 'GLEASON']\n",
    "\n",
    "X = df_final_cluster[num_cols + ord_cols + bin_cols + cat_cols]\n",
    "y = df_final_cluster[\"TRATAMENTO\"]"
   ]
  },
  {
   "cell_type": "markdown",
   "id": "c786d558",
   "metadata": {},
   "source": [
    "### KNN"
   ]
  },
  {
   "cell_type": "code",
   "execution_count": null,
   "id": "f7de1df5",
   "metadata": {},
   "outputs": [],
   "source": [
    "from sklearn.neighbors import KNeighborsClassifier"
   ]
  },
  {
   "cell_type": "code",
   "execution_count": null,
   "id": "c4da6b05",
   "metadata": {},
   "outputs": [],
   "source": [
    "preprocessor = ColumnTransformer(\n",
    "    transformers=[\n",
    "        ('num', StandardScaler(), num_cols),\n",
    "        ('ord', OrdinalEncoder(handle_unknown='use_encoded_value', unknown_value=-1), ord_cols),\n",
    "        ('bin', 'passthrough', bin_cols),\n",
    "        ('cat', OneHotEncoder(handle_unknown='ignore'), cat_cols),\n",
    "    ]\n",
    ")"
   ]
  },
  {
   "cell_type": "code",
   "execution_count": null,
   "id": "1693bcfd",
   "metadata": {},
   "outputs": [],
   "source": [
    "feature_selector = SelectKBest(score_func=mutual_info_classif, k=20)\n",
    "knnModel = KNeighborsClassifier(n_neighbors=9, weights='distance')\n",
    "\n",
    "knn_pipeline = Pipeline(steps=[\n",
    "    ('preprocessamento', preprocessor),\n",
    "    ('feature_selection', feature_selector),\n",
    "    ('classificador', knnModel)\n",
    "])\n",
    "\n",
    "X_train, X_test, y_train, y_test = train_test_split(X, y, stratify=y, random_state=42, test_size=0.2)\n",
    "knn_pipeline.fit(X_train, y_train)\n",
    "\n",
    "y_pred = knn_pipeline.predict(X_test)"
   ]
  },
  {
   "cell_type": "code",
   "execution_count": null,
   "id": "2ee76c91",
   "metadata": {},
   "outputs": [],
   "source": [
    "print(\"A acucária do classificador é: \", accuracy_score(y_test, y_pred))\n",
    "print(\"KNN - Acurácia no teste:\", knn_pipeline.score(X_test, y_test))\n",
    "\n",
    "disp = ConfusionMatrixDisplay(confusion_matrix=confusion_matrix(y_test, y_pred), display_labels=label_encoder.classes_)\n",
    "disp.plot()\n",
    "plt.title(f'Matriz de Confusão KNN')\n",
    "plt.show()"
   ]
  },
  {
   "cell_type": "markdown",
   "id": "d93afa79",
   "metadata": {},
   "source": [
    "### Random Forest"
   ]
  },
  {
   "cell_type": "code",
   "execution_count": null,
   "id": "8206869c",
   "metadata": {},
   "outputs": [],
   "source": [
    "from sklearn.model_selection import GridSearchCV, StratifiedKFold\n",
    "from sklearn.ensemble import RandomForestClassifier"
   ]
  },
  {
   "cell_type": "markdown",
   "id": "00e89c15",
   "metadata": {},
   "source": [
    "label_encoder = LabelEncoder()\n",
    "y_enc = label_encoder.fit_transform(y)"
   ]
  },
  {
   "cell_type": "code",
   "execution_count": null,
   "id": "5361b3bd",
   "metadata": {},
   "outputs": [],
   "source": [
    "X_train, X_test, y_train, y_test = train_test_split(\n",
    "    X, y_enc, test_size=0.3, stratify=y_enc, random_state=42\n",
    ")"
   ]
  },
  {
   "cell_type": "code",
   "execution_count": null,
   "id": "66f8c05e",
   "metadata": {},
   "outputs": [],
   "source": [
    "pipeline = Pipeline([\n",
    "    (\"kbest\", SelectKBest(score_func=mutual_info_classif)),\n",
    "    (\"rf\",    RandomForestClassifier(random_state=42, n_jobs=-1)),\n",
    "])"
   ]
  },
  {
   "cell_type": "code",
   "execution_count": null,
   "id": "9c18d046",
   "metadata": {},
   "outputs": [],
   "source": [
    "param_grid = {\n",
    "    \"kbest__k\":            [10, 20, 30, \"all\"],\n",
    "    \"rf__n_estimators\":    [200, 400, 600],\n",
    "    \"rf__max_depth\":       [None, 10, 20],\n",
    "    \"rf__min_samples_leaf\":[1, 2, 4],\n",
    "}\n",
    "\n",
    "cv = StratifiedKFold(n_splits=5, shuffle=True, random_state=42)\n",
    "\n",
    "gsearch = GridSearchCV(\n",
    "    pipeline,\n",
    "    param_grid,\n",
    "    scoring=\"accuracy\",\n",
    "    cv=cv,\n",
    "    n_jobs=-1,\n",
    "    verbose=2,\n",
    ")"
   ]
  },
  {
   "cell_type": "code",
   "execution_count": null,
   "id": "55a7eb52",
   "metadata": {},
   "outputs": [],
   "source": [
    "gsearch.fit(X_train, y_train)\n",
    "\n",
    "print(\"Melhor acurácia (CV):\", gsearch.best_score_)\n",
    "print(\"Melhores parâmetros :\", gsearch.best_params_)\n",
    "\n",
    "best_model = gsearch.best_estimator_"
   ]
  },
  {
   "cell_type": "code",
   "execution_count": null,
   "id": "41e0e9bc",
   "metadata": {},
   "outputs": [],
   "source": [
    "y_pred = best_model.predict(X_test)\n",
    "print(\"\\nRelatório de classificação \\n\") \n",
    "print(classification_report(y_test, y_pred, target_names=label_encoder.classes_))\n",
    "\n",
    "cm = ConfusionMatrixDisplay.from_estimator(\n",
    "    best_model, X_test, y_test, display_labels=label_encoder.classes_, xticks_rotation=45\n",
    ")\n",
    "plt.title(\"Matriz de Confusão – RandomForest + SelectKBest\")\n",
    "plt.show()"
   ]
  },
  {
   "cell_type": "markdown",
   "id": "49efdb11",
   "metadata": {},
   "source": [
    "### XGBoost"
   ]
  },
  {
   "cell_type": "code",
   "execution_count": null,
   "id": "d1d54457",
   "metadata": {},
   "outputs": [],
   "source": [
    "from sklearn.metrics import RocCurveDisplay, PrecisionRecallDisplay\n",
    "from xgboost import XGBClassifier\n",
    "from xgboost import plot_importance"
   ]
  },
  {
   "cell_type": "code",
   "execution_count": null,
   "id": "a9799967",
   "metadata": {},
   "outputs": [],
   "source": [
    "le = LabelEncoder()\n",
    "y_encoded = le.fit_transform(y)"
   ]
  },
  {
   "cell_type": "code",
   "execution_count": null,
   "id": "9bfd3793",
   "metadata": {},
   "outputs": [],
   "source": [
    "preprocessor = ColumnTransformer(\n",
    "    transformers=[\n",
    "        ('num', StandardScaler(), num_cols),\n",
    "        ('ord', OrdinalEncoder(handle_unknown='use_encoded_value', unknown_value=-1), ord_cols),\n",
    "        ('bin', 'passthrough', bin_cols),\n",
    "        ('cat', OneHotEncoder(handle_unknown='ignore', sparse_output=False), cat_cols),\n",
    "    ]\n",
    ")"
   ]
  },
  {
   "cell_type": "code",
   "execution_count": null,
   "id": "d2e8f3a9",
   "metadata": {},
   "outputs": [],
   "source": [
    "X_train, X_test, y_train, y_test = train_test_split(X, y_encoded, stratify=y_encoded, test_size=0.2, random_state=42)"
   ]
  },
  {
   "cell_type": "code",
   "execution_count": null,
   "id": "8ef4976b",
   "metadata": {},
   "outputs": [],
   "source": [
    "xgb_model = XGBClassifier(\n",
    "    objective='multi:softprob',\n",
    "    eval_metric='mlogloss',\n",
    "    device='cuda',\n",
    "    subsample=0.8,\n",
    "    reg_lambda=3,\n",
    "    reg_alpha=0.5,\n",
    "    n_estimators=300,\n",
    "    max_depth=10,\n",
    "    learning_rate=0.1,\n",
    "    colsample_bytree=1,\n",
    "    random_state=42\n",
    ")"
   ]
  },
  {
   "cell_type": "code",
   "execution_count": null,
   "id": "53342423",
   "metadata": {},
   "outputs": [],
   "source": [
    "pipeline = Pipeline(steps=[\n",
    "    ('preprocessamento', preprocessor),\n",
    "    ('classificador', xgb_model)\n",
    "])\n",
    "\n",
    "pipeline.fit(X_train, y_train)\n",
    "y_pred = pipeline.predict(X_test)"
   ]
  },
  {
   "cell_type": "code",
   "execution_count": null,
   "id": "b8beb62c",
   "metadata": {},
   "outputs": [],
   "source": [
    "y_pred = pipeline.predict(X_test)\n",
    "print(classification_report(y_test, y_pred, target_names=le.classes_))\n",
    "\n",
    "\n",
    "fig, axes = plt.subplots(1, 3, figsize=(20, 5))\n",
    "\n",
    "ConfusionMatrixDisplay.from_estimator(\n",
    "    estimator=pipeline,\n",
    "    X=X_test,\n",
    "    y=y_test,\n",
    "    display_labels=le.classes_,\n",
    "    xticks_rotation=45,\n",
    "    ax=axes[0],\n",
    "    cmap=\"Blues\"\n",
    ")\n",
    "axes[0].set_title(\"Matriz de Confusão – XGBoost\")\n",
    "\n",
    "if len(le.classes_) == 2:\n",
    "    y_score = pipeline.predict_proba(X_test)[:, 1]\n",
    "\n",
    "    RocCurveDisplay.from_predictions(\n",
    "        y_test, y_score, ax=axes[1])\n",
    "    axes[1].set_title(\"ROC – XGBoost\")\n",
    "\n",
    "    PrecisionRecallDisplay.from_predictions(\n",
    "        y_test, y_score, ax=axes[2])\n",
    "    axes[2].set_title(\"PR Curve – XGBoost\")\n",
    "else:\n",
    "    axes[1].axis(\"off\")\n",
    "    axes[2].axis(\"off\")\n",
    "    axes[1].text(0.5, 0.5, \"ROC / PR disponíveis\\napenas para problema binário\",\n",
    "                 ha=\"center\", va=\"center\")\n",
    "\n",
    "plt.tight_layout()\n",
    "plt.show()"
   ]
  },
  {
   "cell_type": "code",
   "execution_count": null,
   "id": "7c289a39",
   "metadata": {},
   "outputs": [],
   "source": [
    "importances_fig, ax = plt.subplots(figsize=(8, 10))\n",
    "\n",
    "booster = pipeline.named_steps[\"classificador\"].get_booster()\n",
    "plot_importance(booster, ax=ax, max_num_features=20, height=0.4)\n",
    "ax.set_title(\"Top‐20 Features – ganho (XGBoost)\")\n",
    "plt.show()"
   ]
  }
 ],
 "metadata": {
  "kernelspec": {
   "display_name": ".venv",
   "language": "python",
   "name": "python3"
  },
  "language_info": {
   "codemirror_mode": {
    "name": "ipython",
    "version": 3
   },
   "file_extension": ".py",
   "mimetype": "text/x-python",
   "name": "python",
   "nbconvert_exporter": "python",
   "pygments_lexer": "ipython3",
   "version": "3.12.10"
  }
 },
 "nbformat": 4,
 "nbformat_minor": 5
}
